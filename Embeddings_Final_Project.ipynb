{
  "cells": [
    {
      "cell_type": "markdown",
      "metadata": {
        "id": "view-in-github",
        "colab_type": "text"
      },
      "source": [
        "<a href=\"https://colab.research.google.com/github/keylacampusano/Python-Practice/blob/main/Embeddings_Final_Project.ipynb\" target=\"_parent\"><img src=\"https://colab.research.google.com/assets/colab-badge.svg\" alt=\"Open In Colab\"/></a>"
      ]
    },
    {
      "cell_type": "code",
      "execution_count": null,
      "metadata": {
        "id": "eCOotapOGewK"
      },
      "outputs": [],
      "source": [
        "!pip install chromadb\n",
        "!pip install sentence-transformers\n",
        "!pip install faiss-cpu\n",
        "!pip install datasets\n",
        "!pip install pandas\n",
        "!pip install spacy\n",
        "!python -m spacy download en_core_web_sm\n"
      ]
    },
    {
      "cell_type": "code",
      "execution_count": null,
      "metadata": {
        "id": "2S-TnXROz2hy"
      },
      "outputs": [],
      "source": [
        "!pip install nltk\n",
        "!pip isntall gensim"
      ]
    },
    {
      "cell_type": "code",
      "execution_count": 3,
      "metadata": {
        "id": "JUEVx9DhQmKG"
      },
      "outputs": [],
      "source": [
        "#Hello, en esta parte vamos a importar Chroma DB, FAISS, y todas las librerias que utilizaremos\n",
        "\n",
        "import chromadb\n",
        "import numpy as np\n",
        "import pandas as pd\n",
        "from sentence_transformers import SentenceTransformer\n",
        "import faiss\n",
        "from datasets import load_dataset\n",
        "from nltk.tokenize import sent_tokenize, word_tokenize\n",
        "import gensim\n",
        "from gensim.models import Word2Vec\n",
        "import spacy\n",
        "from collections import defaultdict\n",
        "from time import time\n",
        "from chromadb.utils.embedding_functions import SentenceTransformerEmbeddingFunction\n",
        "from chromadb.config import Settings\n",
        "from transformers import AutoModelForSequenceClassification, AutoTokenizer\n",
        "import os\n"
      ]
    },
    {
      "cell_type": "code",
      "execution_count": 271,
      "metadata": {
        "id": "c25FfOEfU39I"
      },
      "outputs": [],
      "source": [
        "#Import Dataset from HF\n",
        "dataset = load_dataset(\"embedding-data/sentence-compression\")"
      ]
    },
    {
      "cell_type": "code",
      "execution_count": 288,
      "metadata": {
        "id": "Or9gkOyEowG9"
      },
      "outputs": [],
      "source": [
        "df_train = pd.DataFrame(dataset[\"train\"]).head(10)"
      ]
    },
    {
      "cell_type": "code",
      "execution_count": 289,
      "metadata": {
        "id": "crCgv4saFcEX"
      },
      "outputs": [],
      "source": [
        "texts = df_train[\"set\"]"
      ]
    },
    {
      "cell_type": "code",
      "execution_count": 290,
      "metadata": {
        "colab": {
          "base_uri": "https://localhost:8080/"
        },
        "id": "YmSPZSD-Ft94",
        "outputId": "8b084f6c-b9db-452c-8844-953403af8590"
      },
      "outputs": [
        {
          "output_type": "stream",
          "name": "stdout",
          "text": [
            "0    [The USHL completed an expansion draft on Mond...\n",
            "1    [Major League Baseball Commissioner Bud Selig ...\n",
            "2    [It's fresh cherry time in Michigan and the be...\n",
            "3    [An Evesham man is facing charges in Pennsylva...\n",
            "4    [NRT LLC, one of the nation's largest resident...\n",
            "5    [THE JSE kept toying with an all time high by ...\n",
            "6    [The government is defending the latest police...\n",
            "7    [The renovated Marappalam bridge, which had be...\n",
            "8    [A new survey shows 30 percent of Californians...\n",
            "9    [Brightpoint ,a provider of logistic services ...\n",
            "Name: set, dtype: object\n"
          ]
        }
      ],
      "source": [
        "print (texts)"
      ]
    },
    {
      "cell_type": "code",
      "source": [
        "new_texts = texts.tolist()"
      ],
      "metadata": {
        "id": "_yG1Ltk4QLav"
      },
      "execution_count": 368,
      "outputs": []
    },
    {
      "cell_type": "code",
      "source": [
        "new_texts"
      ],
      "metadata": {
        "colab": {
          "base_uri": "https://localhost:8080/"
        },
        "id": "ZWvi8RwXQZgj",
        "outputId": "cdec76ee-b1dc-47ef-9893-ba3f021dd906"
      },
      "execution_count": 369,
      "outputs": [
        {
          "output_type": "execute_result",
          "data": {
            "text/plain": [
              "[[\"The USHL completed an expansion draft on Monday as 10 players who were on the rosters of USHL teams during the 2009-10 season were selected by the League's two newest entries, the Muskegon Lumberjacks and Dubuque Fighting Saints.\",\n",
              "  'USHL completes expansion draft'],\n",
              " ['Major League Baseball Commissioner Bud Selig will be speaking at St. Norbert College next month.',\n",
              "  'Bud Selig to speak at St. Norbert College'],\n",
              " [\"It's fresh cherry time in Michigan and the best time to enjoy this delicious and nutritious fruit.\",\n",
              "  \"It's cherry time\"],\n",
              " ['An Evesham man is facing charges in Pennsylvania after he allegedly dragged his girlfriend from the side of his pickup truck on the campus of Kutztown University in the early morning hours of Dec. 5, police said.',\n",
              "  'Evesham man faces charges for Pa.'],\n",
              " [\"NRT LLC, one of the nation's largest residential real estate brokerage companies, announced several executive appointments within its Coldwell Banker Residential Brokerage operations in Southern California.\",\n",
              "  'NRT announces executive appointments at its Coldwell Banker operations in Southern California'],\n",
              " ['THE JSE kept toying with an all time high by midday today as resources continued to fuel the bourse.',\n",
              "  'JSE keeps toying with all time high'],\n",
              " ['The government is defending the latest police crime statistics despite a worrying rise in the recorded amount of violent offending.',\n",
              "  'Government defends crime statistics'],\n",
              " ['The renovated Marappalam bridge, which had been opened for two-wheelers last week, was opened for other vehicles also on Friday.',\n",
              "  'Marappalam bridge opened'],\n",
              " ['A new survey shows 30 percent of Californians use Twitter, and more and more of us are using our smart phones to go online.',\n",
              "  'Survey: 30 percent of Californians use Twitter'],\n",
              " ['Brightpoint ,a provider of logistic services to the mobile industry, has started operations in the Turkish market.',\n",
              "  'Brightpoint starts operations on Turkish market']]"
            ]
          },
          "metadata": {},
          "execution_count": 369
        }
      ]
    },
    {
      "cell_type": "code",
      "execution_count": 8,
      "metadata": {
        "colab": {
          "base_uri": "https://localhost:8080/"
        },
        "id": "ceYEXyh91cHL",
        "outputId": "9e8d2257-4937-4e52-be35-a0bb2ce45038"
      },
      "outputs": [
        {
          "output_type": "execute_result",
          "data": {
            "text/plain": [
              "(10, 1)"
            ]
          },
          "metadata": {},
          "execution_count": 8
        }
      ],
      "source": [
        "df_train.shape"
      ]
    },
    {
      "cell_type": "code",
      "execution_count": null,
      "metadata": {
        "id": "0N_WptQxav55"
      },
      "outputs": [],
      "source": [
        "#Now we import models from HF\n",
        "from transformers import AutoTokenizer, AutoModel\n",
        "\n",
        "model_st = SentenceTransformer('paraphrase-distilroberta-base-v1')\n",
        "\n"
      ]
    },
    {
      "cell_type": "code",
      "execution_count": 12,
      "metadata": {
        "id": "TbpKjdNnMaRS"
      },
      "outputs": [],
      "source": [
        "import concurrent.futures"
      ]
    },
    {
      "cell_type": "code",
      "source": [
        "embeddings = model_st.encode(texts)"
      ],
      "metadata": {
        "id": "g_DQksbhpkyg"
      },
      "execution_count": 193,
      "outputs": []
    },
    {
      "cell_type": "code",
      "source": [
        "def encode_texts(model):\n",
        "    return model_st.encode(texts)\n",
        "\n",
        "texts_embeddings = []\n",
        "with concurrent.futures.ThreadPoolExecutor() as executor:\n",
        "    # Launch text encoding for each model in parallel to obtain a fastest result\n",
        "    futures = [executor.submit(encode_texts, model) for model in model_st]\n",
        "\n",
        "    # Gather results as they complete with the embed\n",
        "    for future, model in zip(concurrent.futures.as_completed(futures), model_st):\n",
        "        texts_embeddings.append(future.result())"
      ],
      "metadata": {
        "id": "J9hAWHgUDZ6G"
      },
      "execution_count": 196,
      "outputs": []
    },
    {
      "cell_type": "code",
      "source": [
        "print(embeddings)"
      ],
      "metadata": {
        "colab": {
          "base_uri": "https://localhost:8080/"
        },
        "id": "RJ6NeQz43enG",
        "outputId": "6c9edffe-55c9-448e-eae9-502d43b21b61"
      },
      "execution_count": 195,
      "outputs": [
        {
          "output_type": "stream",
          "name": "stdout",
          "text": [
            "[[-0.01476244 -0.11661881 -0.0585124  ... -0.07039721 -0.00150099\n",
            "   0.3003174 ]\n",
            " [ 0.01026955  0.24575628 -0.01019975 ...  0.08323041  0.2253961\n",
            "   0.2159326 ]\n",
            " [-0.17097703  0.24742264  0.3673481  ...  0.76167136  0.04267222\n",
            "   0.10653625]\n",
            " ...\n",
            " [-0.2833038  -0.23699163 -0.0029812  ...  0.42410824 -0.07033559\n",
            "  -0.10299055]\n",
            " [-0.2131704  -0.02782431 -0.09215224 ...  0.24908543  0.41691625\n",
            "   0.24698234]\n",
            " [ 0.11760301  0.36261845 -0.04503371 ... -0.02317489  0.2086976\n",
            "   0.10080846]]\n"
          ]
        }
      ]
    },
    {
      "cell_type": "code",
      "source": [
        "embeddings.shape"
      ],
      "metadata": {
        "colab": {
          "base_uri": "https://localhost:8080/"
        },
        "id": "5UjUC8Cmouw0",
        "outputId": "3e5e175b-338c-4da3-b420-5a751efc3145"
      },
      "execution_count": 197,
      "outputs": [
        {
          "output_type": "execute_result",
          "data": {
            "text/plain": [
              "(10, 768)"
            ]
          },
          "metadata": {},
          "execution_count": 197
        }
      ]
    },
    {
      "cell_type": "code",
      "source": [
        "#def a function to search by similarity, (idea is to have an input and the sentence to compare, and then to obtain a similarity with the euclidan vector)\n",
        "def euclidean_distances(X, Y=None, *, Y_norm_squared=None, squared=False, X_norm_squared=None):\n",
        "\n",
        "  def search_similarity(query_vector, embeddings, distance_metric=\"euclidean\", k=5):\n",
        "    if distance_metric == \"euclidean\":\n",
        "        distances = euclidean_distances(query_vector.reshape(1, -1), embeddings)\n",
        "    else:\n",
        "        raise ValueError(\"Unsupported distance metric\")\n",
        "    sorted_indices = np.argsort(distances)\n",
        "    return sorted_indices[:k], distances[sorted_indices][:k]\n",
        "\n"
      ],
      "metadata": {
        "id": "j3weu7J35QzQ"
      },
      "execution_count": 198,
      "outputs": []
    },
    {
      "cell_type": "code",
      "source": [
        "#Now we need to create the indexes for FAISS & CHROMA DB, sirven para mejorar el rendimiento de las consultas de búsqueda por similitud.\n",
        "\n",
        "vector_dimensions = embeddings.shape[1]\n",
        "\n",
        "index= faiss.IndexFlatL2(vector_dimensions)\n",
        "faiss.normalize_L2(embeddings)\n",
        "index.add(embeddings)"
      ],
      "metadata": {
        "id": "Konhlhl5TpTA"
      },
      "execution_count": 201,
      "outputs": []
    },
    {
      "cell_type": "code",
      "source": [
        "import numpy as np\n",
        "\n",
        "search_text = 'its fresh'\n",
        "search_vector = model_st.encode(search_text)\n",
        "new_vector = np.array(search_vector.reshape(1, -1))\n",
        "faiss.normalize_L2(new_vector)"
      ],
      "metadata": {
        "id": "YHOBL4mtrUP_"
      },
      "execution_count": 217,
      "outputs": []
    },
    {
      "cell_type": "code",
      "source": [
        "distances,ann = index.search(new_vector, k=4)\n",
        "results= pd.DataFrame({'distances': distances[0], 'ann': ann[0]})\n",
        "df_merged = pd.merge(results,df_train,left_on='ann', right_index=True)"
      ],
      "metadata": {
        "id": "omLOcjilsC6d"
      },
      "execution_count": 218,
      "outputs": []
    },
    {
      "cell_type": "code",
      "source": [
        "df_merged.head()"
      ],
      "metadata": {
        "colab": {
          "base_uri": "https://localhost:8080/",
          "height": 174
        },
        "id": "TN5W0tr6s8Ag",
        "outputId": "e883106a-8ee2-476a-abe4-5d542900e856"
      },
      "execution_count": 245,
      "outputs": [
        {
          "output_type": "execute_result",
          "data": {
            "text/plain": [
              "   distances  ann                                                set\n",
              "0   1.467611    2  [It's fresh cherry time in Michigan and the be...\n",
              "1   1.807476    4  [NRT LLC, one of the nation's largest resident...\n",
              "2   1.835946    7  [The renovated Marappalam bridge, which had be...\n",
              "3   1.839991    0  [The USHL completed an expansion draft on Mond..."
            ],
            "text/html": [
              "\n",
              "  <div id=\"df-94663136-04e8-4697-80d4-5996c0220a31\" class=\"colab-df-container\">\n",
              "    <div>\n",
              "<style scoped>\n",
              "    .dataframe tbody tr th:only-of-type {\n",
              "        vertical-align: middle;\n",
              "    }\n",
              "\n",
              "    .dataframe tbody tr th {\n",
              "        vertical-align: top;\n",
              "    }\n",
              "\n",
              "    .dataframe thead th {\n",
              "        text-align: right;\n",
              "    }\n",
              "</style>\n",
              "<table border=\"1\" class=\"dataframe\">\n",
              "  <thead>\n",
              "    <tr style=\"text-align: right;\">\n",
              "      <th></th>\n",
              "      <th>distances</th>\n",
              "      <th>ann</th>\n",
              "      <th>set</th>\n",
              "    </tr>\n",
              "  </thead>\n",
              "  <tbody>\n",
              "    <tr>\n",
              "      <th>0</th>\n",
              "      <td>1.467611</td>\n",
              "      <td>2</td>\n",
              "      <td>[It's fresh cherry time in Michigan and the be...</td>\n",
              "    </tr>\n",
              "    <tr>\n",
              "      <th>1</th>\n",
              "      <td>1.807476</td>\n",
              "      <td>4</td>\n",
              "      <td>[NRT LLC, one of the nation's largest resident...</td>\n",
              "    </tr>\n",
              "    <tr>\n",
              "      <th>2</th>\n",
              "      <td>1.835946</td>\n",
              "      <td>7</td>\n",
              "      <td>[The renovated Marappalam bridge, which had be...</td>\n",
              "    </tr>\n",
              "    <tr>\n",
              "      <th>3</th>\n",
              "      <td>1.839991</td>\n",
              "      <td>0</td>\n",
              "      <td>[The USHL completed an expansion draft on Mond...</td>\n",
              "    </tr>\n",
              "  </tbody>\n",
              "</table>\n",
              "</div>\n",
              "    <div class=\"colab-df-buttons\">\n",
              "\n",
              "  <div class=\"colab-df-container\">\n",
              "    <button class=\"colab-df-convert\" onclick=\"convertToInteractive('df-94663136-04e8-4697-80d4-5996c0220a31')\"\n",
              "            title=\"Convert this dataframe to an interactive table.\"\n",
              "            style=\"display:none;\">\n",
              "\n",
              "  <svg xmlns=\"http://www.w3.org/2000/svg\" height=\"24px\" viewBox=\"0 -960 960 960\">\n",
              "    <path d=\"M120-120v-720h720v720H120Zm60-500h600v-160H180v160Zm220 220h160v-160H400v160Zm0 220h160v-160H400v160ZM180-400h160v-160H180v160Zm440 0h160v-160H620v160ZM180-180h160v-160H180v160Zm440 0h160v-160H620v160Z\"/>\n",
              "  </svg>\n",
              "    </button>\n",
              "\n",
              "  <style>\n",
              "    .colab-df-container {\n",
              "      display:flex;\n",
              "      gap: 12px;\n",
              "    }\n",
              "\n",
              "    .colab-df-convert {\n",
              "      background-color: #E8F0FE;\n",
              "      border: none;\n",
              "      border-radius: 50%;\n",
              "      cursor: pointer;\n",
              "      display: none;\n",
              "      fill: #1967D2;\n",
              "      height: 32px;\n",
              "      padding: 0 0 0 0;\n",
              "      width: 32px;\n",
              "    }\n",
              "\n",
              "    .colab-df-convert:hover {\n",
              "      background-color: #E2EBFA;\n",
              "      box-shadow: 0px 1px 2px rgba(60, 64, 67, 0.3), 0px 1px 3px 1px rgba(60, 64, 67, 0.15);\n",
              "      fill: #174EA6;\n",
              "    }\n",
              "\n",
              "    .colab-df-buttons div {\n",
              "      margin-bottom: 4px;\n",
              "    }\n",
              "\n",
              "    [theme=dark] .colab-df-convert {\n",
              "      background-color: #3B4455;\n",
              "      fill: #D2E3FC;\n",
              "    }\n",
              "\n",
              "    [theme=dark] .colab-df-convert:hover {\n",
              "      background-color: #434B5C;\n",
              "      box-shadow: 0px 1px 3px 1px rgba(0, 0, 0, 0.15);\n",
              "      filter: drop-shadow(0px 1px 2px rgba(0, 0, 0, 0.3));\n",
              "      fill: #FFFFFF;\n",
              "    }\n",
              "  </style>\n",
              "\n",
              "    <script>\n",
              "      const buttonEl =\n",
              "        document.querySelector('#df-94663136-04e8-4697-80d4-5996c0220a31 button.colab-df-convert');\n",
              "      buttonEl.style.display =\n",
              "        google.colab.kernel.accessAllowed ? 'block' : 'none';\n",
              "\n",
              "      async function convertToInteractive(key) {\n",
              "        const element = document.querySelector('#df-94663136-04e8-4697-80d4-5996c0220a31');\n",
              "        const dataTable =\n",
              "          await google.colab.kernel.invokeFunction('convertToInteractive',\n",
              "                                                    [key], {});\n",
              "        if (!dataTable) return;\n",
              "\n",
              "        const docLinkHtml = 'Like what you see? Visit the ' +\n",
              "          '<a target=\"_blank\" href=https://colab.research.google.com/notebooks/data_table.ipynb>data table notebook</a>'\n",
              "          + ' to learn more about interactive tables.';\n",
              "        element.innerHTML = '';\n",
              "        dataTable['output_type'] = 'display_data';\n",
              "        await google.colab.output.renderOutput(dataTable, element);\n",
              "        const docLink = document.createElement('div');\n",
              "        docLink.innerHTML = docLinkHtml;\n",
              "        element.appendChild(docLink);\n",
              "      }\n",
              "    </script>\n",
              "  </div>\n",
              "\n",
              "\n",
              "<div id=\"df-22979da7-db15-4c65-a24b-1de553653c23\">\n",
              "  <button class=\"colab-df-quickchart\" onclick=\"quickchart('df-22979da7-db15-4c65-a24b-1de553653c23')\"\n",
              "            title=\"Suggest charts\"\n",
              "            style=\"display:none;\">\n",
              "\n",
              "<svg xmlns=\"http://www.w3.org/2000/svg\" height=\"24px\"viewBox=\"0 0 24 24\"\n",
              "     width=\"24px\">\n",
              "    <g>\n",
              "        <path d=\"M19 3H5c-1.1 0-2 .9-2 2v14c0 1.1.9 2 2 2h14c1.1 0 2-.9 2-2V5c0-1.1-.9-2-2-2zM9 17H7v-7h2v7zm4 0h-2V7h2v10zm4 0h-2v-4h2v4z\"/>\n",
              "    </g>\n",
              "</svg>\n",
              "  </button>\n",
              "\n",
              "<style>\n",
              "  .colab-df-quickchart {\n",
              "      --bg-color: #E8F0FE;\n",
              "      --fill-color: #1967D2;\n",
              "      --hover-bg-color: #E2EBFA;\n",
              "      --hover-fill-color: #174EA6;\n",
              "      --disabled-fill-color: #AAA;\n",
              "      --disabled-bg-color: #DDD;\n",
              "  }\n",
              "\n",
              "  [theme=dark] .colab-df-quickchart {\n",
              "      --bg-color: #3B4455;\n",
              "      --fill-color: #D2E3FC;\n",
              "      --hover-bg-color: #434B5C;\n",
              "      --hover-fill-color: #FFFFFF;\n",
              "      --disabled-bg-color: #3B4455;\n",
              "      --disabled-fill-color: #666;\n",
              "  }\n",
              "\n",
              "  .colab-df-quickchart {\n",
              "    background-color: var(--bg-color);\n",
              "    border: none;\n",
              "    border-radius: 50%;\n",
              "    cursor: pointer;\n",
              "    display: none;\n",
              "    fill: var(--fill-color);\n",
              "    height: 32px;\n",
              "    padding: 0;\n",
              "    width: 32px;\n",
              "  }\n",
              "\n",
              "  .colab-df-quickchart:hover {\n",
              "    background-color: var(--hover-bg-color);\n",
              "    box-shadow: 0 1px 2px rgba(60, 64, 67, 0.3), 0 1px 3px 1px rgba(60, 64, 67, 0.15);\n",
              "    fill: var(--button-hover-fill-color);\n",
              "  }\n",
              "\n",
              "  .colab-df-quickchart-complete:disabled,\n",
              "  .colab-df-quickchart-complete:disabled:hover {\n",
              "    background-color: var(--disabled-bg-color);\n",
              "    fill: var(--disabled-fill-color);\n",
              "    box-shadow: none;\n",
              "  }\n",
              "\n",
              "  .colab-df-spinner {\n",
              "    border: 2px solid var(--fill-color);\n",
              "    border-color: transparent;\n",
              "    border-bottom-color: var(--fill-color);\n",
              "    animation:\n",
              "      spin 1s steps(1) infinite;\n",
              "  }\n",
              "\n",
              "  @keyframes spin {\n",
              "    0% {\n",
              "      border-color: transparent;\n",
              "      border-bottom-color: var(--fill-color);\n",
              "      border-left-color: var(--fill-color);\n",
              "    }\n",
              "    20% {\n",
              "      border-color: transparent;\n",
              "      border-left-color: var(--fill-color);\n",
              "      border-top-color: var(--fill-color);\n",
              "    }\n",
              "    30% {\n",
              "      border-color: transparent;\n",
              "      border-left-color: var(--fill-color);\n",
              "      border-top-color: var(--fill-color);\n",
              "      border-right-color: var(--fill-color);\n",
              "    }\n",
              "    40% {\n",
              "      border-color: transparent;\n",
              "      border-right-color: var(--fill-color);\n",
              "      border-top-color: var(--fill-color);\n",
              "    }\n",
              "    60% {\n",
              "      border-color: transparent;\n",
              "      border-right-color: var(--fill-color);\n",
              "    }\n",
              "    80% {\n",
              "      border-color: transparent;\n",
              "      border-right-color: var(--fill-color);\n",
              "      border-bottom-color: var(--fill-color);\n",
              "    }\n",
              "    90% {\n",
              "      border-color: transparent;\n",
              "      border-bottom-color: var(--fill-color);\n",
              "    }\n",
              "  }\n",
              "</style>\n",
              "\n",
              "  <script>\n",
              "    async function quickchart(key) {\n",
              "      const quickchartButtonEl =\n",
              "        document.querySelector('#' + key + ' button');\n",
              "      quickchartButtonEl.disabled = true;  // To prevent multiple clicks.\n",
              "      quickchartButtonEl.classList.add('colab-df-spinner');\n",
              "      try {\n",
              "        const charts = await google.colab.kernel.invokeFunction(\n",
              "            'suggestCharts', [key], {});\n",
              "      } catch (error) {\n",
              "        console.error('Error during call to suggestCharts:', error);\n",
              "      }\n",
              "      quickchartButtonEl.classList.remove('colab-df-spinner');\n",
              "      quickchartButtonEl.classList.add('colab-df-quickchart-complete');\n",
              "    }\n",
              "    (() => {\n",
              "      let quickchartButtonEl =\n",
              "        document.querySelector('#df-22979da7-db15-4c65-a24b-1de553653c23 button');\n",
              "      quickchartButtonEl.style.display =\n",
              "        google.colab.kernel.accessAllowed ? 'block' : 'none';\n",
              "    })();\n",
              "  </script>\n",
              "</div>\n",
              "\n",
              "    </div>\n",
              "  </div>\n"
            ],
            "application/vnd.google.colaboratory.intrinsic+json": {
              "type": "dataframe",
              "variable_name": "df_merged",
              "summary": "{\n  \"name\": \"df_merged\",\n  \"rows\": 4,\n  \"fields\": [\n    {\n      \"column\": \"distances\",\n      \"properties\": {\n        \"dtype\": \"float32\",\n        \"num_unique_values\": 4,\n        \"samples\": [\n          1.8074755668640137,\n          1.8399907350540161,\n          1.4676105976104736\n        ],\n        \"semantic_type\": \"\",\n        \"description\": \"\"\n      }\n    },\n    {\n      \"column\": \"ann\",\n      \"properties\": {\n        \"dtype\": \"number\",\n        \"std\": 2,\n        \"min\": 0,\n        \"max\": 7,\n        \"num_unique_values\": 4,\n        \"samples\": [\n          4,\n          0,\n          2\n        ],\n        \"semantic_type\": \"\",\n        \"description\": \"\"\n      }\n    },\n    {\n      \"column\": \"set\",\n      \"properties\": {\n        \"dtype\": \"object\",\n        \"semantic_type\": \"\",\n        \"description\": \"\"\n      }\n    }\n  ]\n}"
            }
          },
          "metadata": {},
          "execution_count": 245
        }
      ]
    },
    {
      "cell_type": "code",
      "execution_count": null,
      "metadata": {
        "id": "0T7ohwalxVIA"
      },
      "outputs": [],
      "source": [
        "#from sklearn.metrics.pairwise import euclidean_distances"
      ]
    },
    {
      "cell_type": "code",
      "source": [
        "print(query_vector.shape)\n"
      ],
      "metadata": {
        "colab": {
          "base_uri": "https://localhost:8080/"
        },
        "id": "afNU91n_6Slw",
        "outputId": "76a90cae-be9a-43d2-9d05-dc52bc4cbeff"
      },
      "execution_count": 253,
      "outputs": [
        {
          "output_type": "stream",
          "name": "stdout",
          "text": [
            "(768,)\n"
          ]
        }
      ]
    },
    {
      "cell_type": "code",
      "source": [
        "def chromadb_index(embeddings):\n",
        "    from langchain.vectorstores import Chroma\n",
        "    chroma_index = Chroma(embeddings.shape[1])\n",
        "    chroma_index.populate(embeddings)\n",
        "    return chroma_index"
      ],
      "metadata": {
        "id": "J95gcvwm-UTh"
      },
      "execution_count": 280,
      "outputs": []
    },
    {
      "cell_type": "code",
      "source": [
        "from sentence_transformers import SentenceTransformer\n",
        "model = SentenceTransformer(\"all-MiniLM-L6-v2\")\n",
        "texts_db = [texts]\n",
        "text_embeddings_db = model.encode(texts)\n"
      ],
      "metadata": {
        "id": "i1Dv_o5yDSpg"
      },
      "execution_count": 320,
      "outputs": []
    },
    {
      "cell_type": "code",
      "source": [
        "type(text_embeddings_db)"
      ],
      "metadata": {
        "colab": {
          "base_uri": "https://localhost:8080/"
        },
        "id": "0hOEoHfxDlle",
        "outputId": "eae9d7c1-1590-4b65-d9d2-3419cb6f500f"
      },
      "execution_count": 321,
      "outputs": [
        {
          "output_type": "execute_result",
          "data": {
            "text/plain": [
              "numpy.ndarray"
            ]
          },
          "metadata": {},
          "execution_count": 321
        }
      ]
    },
    {
      "cell_type": "code",
      "source": [
        "text_embeddings_db.shape"
      ],
      "metadata": {
        "colab": {
          "base_uri": "https://localhost:8080/"
        },
        "id": "UZe_ye_2DqtE",
        "outputId": "ec654091-aa51-4236-97a3-1338cbcf0a18"
      },
      "execution_count": 322,
      "outputs": [
        {
          "output_type": "execute_result",
          "data": {
            "text/plain": [
              "(10, 384)"
            ]
          },
          "metadata": {},
          "execution_count": 322
        }
      ]
    },
    {
      "cell_type": "code",
      "source": [
        "!python -m spacy download en_core_web_md\n",
        "\n"
      ],
      "metadata": {
        "id": "v7-wOg9gEW8h"
      },
      "execution_count": null,
      "outputs": []
    },
    {
      "cell_type": "code",
      "source": [
        "!python -m pip install spacy"
      ],
      "metadata": {
        "id": "3UuxHndNEy3S"
      },
      "execution_count": null,
      "outputs": []
    },
    {
      "cell_type": "code",
      "source": [
        "!pip install chromadb"
      ],
      "metadata": {
        "id": "XL2OF39jDub-"
      },
      "execution_count": null,
      "outputs": []
    },
    {
      "cell_type": "code",
      "source": [
        "pip install cosine-similarity"
      ],
      "metadata": {
        "colab": {
          "base_uri": "https://localhost:8080/"
        },
        "id": "vo3QxRGFLbKA",
        "outputId": "3fc5394c-cca4-49dd-88eb-b74cf32a6c87"
      },
      "execution_count": 326,
      "outputs": [
        {
          "output_type": "stream",
          "name": "stdout",
          "text": [
            "Requirement already satisfied: cosine-similarity in /usr/local/lib/python3.10/dist-packages (0.1.2)\n"
          ]
        }
      ]
    },
    {
      "cell_type": "code",
      "source": [
        "import chromadb\n",
        "from chromadb.utils import embedding_functions\n",
        "CHROMA_DATA_PATH = \"chroma_data/\"\n",
        "EMBED_MODEL = \"all-MiniLM-L6-v2\"\n",
        "COLLECTION_NAME = \"demo_docs\"\n",
        "\n",
        "client = chromadb.PersistentClient(path=CHROMA_DATA_PATH)"
      ],
      "metadata": {
        "id": "oM5S3huHM_6m"
      },
      "execution_count": 373,
      "outputs": []
    },
    {
      "cell_type": "code",
      "source": [
        "embedding_func = embedding_functions.SentenceTransformerEmbeddingFunction(\n",
        "    model_name=EMBED_MODEL\n",
        ")\n",
        "\n",
        "collection = client.create_collection(\n",
        "    name=COLLECTION_NAME,\n",
        "    embedding_function=embedding_func,\n",
        "    metadata={\"hnsw:space\": \"cosine\"},\n",
        ")"
      ],
      "metadata": {
        "id": "Zi_UCFlANLhO"
      },
      "execution_count": null,
      "outputs": []
    },
    {
      "cell_type": "code",
      "source": [
        "documents = (texts)\n",
        "documents = documents.tolist()\n"
      ],
      "metadata": {
        "id": "-1dPEHBoNRyf"
      },
      "execution_count": 376,
      "outputs": []
    },
    {
      "cell_type": "code",
      "source": [
        "genres = [\n",
        "    \"technology\",\n",
        "    \"travel\",\n",
        "    \"science\",\n",
        "    \"food\",\n",
        "    \"history\",\n",
        "    \"fitness\",\n",
        "    \"art\",\n",
        "    \"climate change\",\n",
        "    \"business\",\n",
        "    \"music\",\n",
        "]"
      ],
      "metadata": {
        "id": "RteKb6xNNgVO"
      },
      "execution_count": 377,
      "outputs": []
    },
    {
      "cell_type": "code",
      "source": [
        "collection.add(\n",
        "    documents=documents,\n",
        "    ids=[f\"id{i}\" for i in range(len(documents))],\n",
        "    metadatas=[{\"genre\": g} for g in genres]\n",
        ")\n"
      ],
      "metadata": {
        "id": "ntQoRRAHOll6"
      },
      "execution_count": null,
      "outputs": []
    },
    {
      "cell_type": "code",
      "source": [
        "print(f\"Number of documents: {len(documents)}\")\n",
        "print(f\"Number of ids: {len([f'id{i}' for i in range(len(documents))])}\")\n",
        "print(f\"Number of genres: {len(genres)}\")"
      ],
      "metadata": {
        "colab": {
          "base_uri": "https://localhost:8080/"
        },
        "id": "3amZjyokOvEe",
        "outputId": "aa427fcf-329e-4cf3-fcad-4813f0398b3b"
      },
      "execution_count": 379,
      "outputs": [
        {
          "output_type": "stream",
          "name": "stdout",
          "text": [
            "Number of documents: 10\n",
            "Number of ids: 10\n",
            "Number of genres: 10\n"
          ]
        }
      ]
    },
    {
      "cell_type": "code",
      "source": [
        "query_results = collection.query(\n",
        "    query_texts=[\"albert einstein\"],\n",
        "    n_results=1,\n",
        ")\n",
        "\n",
        "query_results.keys()\n",
        "query_results[\"documents\"]\n",
        "query_results[\"ids\"]\n",
        "query_results[\"distances\"]\n",
        "query_results[\"metadatas\"]"
      ],
      "metadata": {
        "colab": {
          "base_uri": "https://localhost:8080/"
        },
        "id": "G2Gc-q0zPi8q",
        "outputId": "1917c841-fc30-432c-dd53-63080ba46b1e"
      },
      "execution_count": 382,
      "outputs": [
        {
          "output_type": "execute_result",
          "data": {
            "text/plain": [
              "[[{'genre': 'travel'}]]"
            ]
          },
          "metadata": {},
          "execution_count": 382
        }
      ]
    },
    {
      "cell_type": "code",
      "source": [
        "query_results = collection.query(\n",
        "    query_texts=[\"Teach me about history\",\n",
        "                 \"What's going on in the world?\"],\n",
        "    include=[\"documents\", \"distances\"],\n",
        "    n_results=2\n",
        ")\n",
        "\n",
        "query_results[\"documents\"][0]\n",
        "\n",
        "query_results[\"distances\"][0]\n",
        "\n",
        "query_results[\"documents\"][1]\n",
        "\n",
        "query_results[\"distances\"][1]"
      ],
      "metadata": {
        "colab": {
          "base_uri": "https://localhost:8080/"
        },
        "id": "19Y2obvtP0Zs",
        "outputId": "f67e085a-8dd3-430b-f1c3-1dc72db2eece"
      },
      "execution_count": 383,
      "outputs": [
        {
          "output_type": "execute_result",
          "data": {
            "text/plain": [
              "[0.7700092399209757, 0.7864988653289766]"
            ]
          },
          "metadata": {},
          "execution_count": 383
        }
      ]
    }
  ],
  "metadata": {
    "colab": {
      "provenance": [],
      "authorship_tag": "ABX9TyPVirx95rNdUbmtbUXdXy1y",
      "include_colab_link": true
    },
    "kernelspec": {
      "display_name": "Python 3",
      "name": "python3"
    },
    "language_info": {
      "name": "python"
    }
  },
  "nbformat": 4,
  "nbformat_minor": 0
}